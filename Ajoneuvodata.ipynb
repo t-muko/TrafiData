{
 "cells": [
  {
   "cell_type": "code",
   "execution_count": 5,
   "metadata": {},
   "outputs": [],
   "source": [
    "sourceURL = \"http://trafiopendata.97.fi/opendata/10072018_Ajoneuvojen_avoin_data_5_3.zip\"\n",
    "datadir = \"./trafidata/\"\n",
    "\n",
    "\n",
    "# Haetaan aineisto Trafin webbisivulta ja puretaan zippi\n",
    "\n",
    "import os\n",
    "if not os.path.exists(datadir):\n",
    "    os.makedirs(datadir)\n",
    "\n",
    "if not os.path.isfile(datadir+\"data.zip\"):\n",
    "    \n",
    "    import urllib.request\n",
    "    #import urllib\n",
    "    urllib.request.urlretrieve (sourceURL, datadir+\"data.zip\")\n",
    "\n",
    "if not os.path.isfile(datadir+\"Ajoneuvojen avoin data 5.3.csv\"):\n",
    "    import zipfile\n",
    "    zip_ref = zipfile.ZipFile(datadir+\"data.zip\", 'r')\n",
    "    zip_ref.extractall(datadir)\n",
    "    zip_ref.close()"
   ]
  },
  {
   "cell_type": "code",
   "execution_count": null,
   "metadata": {},
   "outputs": [],
   "source": [
    "# Luetaan aineisto Pandas dDataframeen\n",
    "import pandas as pd\n",
    "df = pd.read_csv(datadir+\"Ajoneuvojen avoin data 5.3.csv\",sep=\";\",encoding=\"latin-1\")"
   ]
  }
 ],
 "metadata": {
  "kernelspec": {
   "display_name": "Python 3",
   "language": "python",
   "name": "python3"
  },
  "language_info": {
   "codemirror_mode": {
    "name": "ipython",
    "version": 3
   },
   "file_extension": ".py",
   "mimetype": "text/x-python",
   "name": "python",
   "nbconvert_exporter": "python",
   "pygments_lexer": "ipython3",
   "version": "3.5.2"
  }
 },
 "nbformat": 4,
 "nbformat_minor": 2
}
