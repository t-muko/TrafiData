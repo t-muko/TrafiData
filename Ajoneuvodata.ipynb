{
 "cells": [
  {
   "cell_type": "code",
   "execution_count": 10,
   "metadata": {},
   "outputs": [],
   "source": [
    "sourceURL = \"http://trafiopendata.97.fi/opendata/10072018_Ajoneuvojen_avoin_data_5_3.zip\"\n",
    "datadir = \"./trafidata/\"\n",
    "\n",
    "\n",
    "# Haetaan aineisto Trafin webbisivulta ja puretaan zippi\n",
    "\n",
    "import os\n",
    "if not os.path.exists(datadir):\n",
    "    os.makedirs(datadir)\n",
    "\n",
    "if not os.path.isfile(datadir+\"data.zip\"):\n",
    "    \n",
    "    import urllib.request\n",
    "    #import urllib\n",
    "    urllib.request.urlretrieve (sourceURL, datadir+\"data.zip\")\n",
    "\n",
    "if not os.path.isfile(datadir+\"Ajoneuvojen avoin data 5.3.csv\"):\n",
    "    import zipfile\n",
    "    zip_ref = zipfile.ZipFile(datadir+\"data.zip\", 'r')\n",
    "    zip_ref.extractall(datadir)\n",
    "    zip_ref.close()"
   ]
  },
  {
   "cell_type": "markdown",
   "metadata": {},
   "source": [
    "# Luetaan aineisto Pandas dDataframeen... Paitsi että ei lueta, koska Big Data\n",
    "import pandas as pd\n",
    "df = pd.read_csv(datadir+\"Ajoneuvojen avoin data 5.3.csv\",sep=\";\",encoding=\"latin-1\")"
   ]
  },
  {
   "cell_type": "markdown",
   "metadata": {},
   "source": [
    "# RDD-tapa tehdä asioita Sparkissa. So last season...\n",
    "\n",
    "import pyspark\n",
    "sc = pyspark.SparkContext('local[*]')\n",
    "\n",
    "# do something to prove it works\n",
    "rdd = sc.parallelize(range(1000))\n",
    "rdd.takeSample(False, 5)"
   ]
  },
  {
   "cell_type": "code",
   "execution_count": 11,
   "metadata": {},
   "outputs": [],
   "source": [
    "# Ladataan CSV Spark dataframeen\n",
    "\n",
    "from pyspark.sql import SparkSession\n",
    "spark = SparkSession.builder\\\n",
    ".master(\"local\")\\\n",
    ".appName(\"Data cleaning\")\\\n",
    ".getOrCreate()\n",
    "\n",
    "df = spark.read.format(\"csv\")\\\n",
    ".option(\"header\", \"true\")\\\n",
    ".option(\"delimiter\", \";\")\\\n",
    ".option(\"encoding\", \"ISO-8859-1\")\\\n",
    ".load(datadir+\"Ajoneuvojen avoin data 5.3.csv\")"
   ]
  },
  {
   "cell_type": "code",
   "execution_count": 13,
   "metadata": {},
   "outputs": [
    {
     "data": {
      "text/plain": [
       "pyspark.sql.dataframe.DataFrame"
      ]
     },
     "execution_count": 13,
     "metadata": {},
     "output_type": "execute_result"
    }
   ],
   "source": [
    "type(df)"
   ]
  },
  {
   "cell_type": "code",
   "execution_count": 14,
   "metadata": {},
   "outputs": [
    {
     "name": "stdout",
     "output_type": "stream",
     "text": [
      "root\n",
      " |-- ajoneuvoluokka: string (nullable = true)\n",
      " |-- ensirekisterointipvm: string (nullable = true)\n",
      " |-- ajoneuvoryhma: string (nullable = true)\n",
      " |-- ajoneuvonkaytto: string (nullable = true)\n",
      " |-- variantti: string (nullable = true)\n",
      " |-- versio: string (nullable = true)\n",
      " |-- kayttoonottopvm: string (nullable = true)\n",
      " |-- vari: string (nullable = true)\n",
      " |-- ovienLukumaara: string (nullable = true)\n",
      " |-- korityyppi: string (nullable = true)\n",
      " |-- ohjaamotyyppi: string (nullable = true)\n",
      " |-- istumapaikkojenLkm: string (nullable = true)\n",
      " |-- omamassa: string (nullable = true)\n",
      " |-- teknSuurSallKokmassa: string (nullable = true)\n",
      " |-- tieliikSuurSallKokmassa: string (nullable = true)\n",
      " |-- ajonKokPituus: string (nullable = true)\n",
      " |-- ajonLeveys: string (nullable = true)\n",
      " |-- ajonKorkeus: string (nullable = true)\n",
      " |-- kayttovoima: string (nullable = true)\n",
      " |-- iskutilavuus: string (nullable = true)\n",
      " |-- suurinNettoteho: string (nullable = true)\n",
      " |-- sylintereidenLkm: string (nullable = true)\n",
      " |-- ahdin: string (nullable = true)\n",
      " |-- sahkohybridi: string (nullable = true)\n",
      " |-- merkkiSelvakielinen: string (nullable = true)\n",
      " |-- mallimerkinta: string (nullable = true)\n",
      " |-- vaihteisto: string (nullable = true)\n",
      " |-- vaihteidenLkm: string (nullable = true)\n",
      " |-- kaupallinenNimi: string (nullable = true)\n",
      " |-- voimanvalJaTehostamistapa: string (nullable = true)\n",
      " |-- tyyppihyvaksyntanro: string (nullable = true)\n",
      " |-- yksittaisKayttovoima: string (nullable = true)\n",
      " |-- kunta: string (nullable = true)\n",
      " |-- Co2: string (nullable = true)\n",
      " |-- matkamittarilukema: string (nullable = true)\n",
      " |-- alue: string (nullable = true)\n",
      " |-- valmistenumero2: string (nullable = true)\n",
      " |-- jarnro: string (nullable = true)\n",
      "\n"
     ]
    }
   ],
   "source": [
    "df.printSchema()"
   ]
  },
  {
   "cell_type": "code",
   "execution_count": 16,
   "metadata": {},
   "outputs": [
    {
     "data": {
      "text/plain": [
       "[Row(ajoneuvoluokka='MUU', ensirekisterointipvm=None, ajoneuvoryhma='21', ajoneuvonkaytto='01', variantti=None, versio=None, kayttoonottopvm='19670000', vari=None, ovienLukumaara=None, korityyppi=None, ohjaamotyyppi=None, istumapaikkojenLkm='1', omamassa='210', teknSuurSallKokmassa=None, tieliikSuurSallKokmassa=None, ajonKokPituus=None, ajonLeveys=None, ajonKorkeus=None, kayttovoima='01', iskutilavuus='590', suurinNettoteho=None, sylintereidenLkm=None, ahdin=None, sahkohybridi=None, merkkiSelvakielinen='BMW', mallimerkinta='R60/590', vaihteisto=None, vaihteidenLkm=None, kaupallinenNimi=None, voimanvalJaTehostamistapa=None, tyyppihyvaksyntanro=None, yksittaisKayttovoima='01', kunta='049', Co2=None, matkamittarilukema=None, alue='027', valmistenumero2=None, jarnro='1'),\n",
       " Row(ajoneuvoluokka='M1', ensirekisterointipvm='1997-01-10', ajoneuvoryhma=None, ajoneuvonkaytto='01', variantti=None, versio=None, kayttoonottopvm='19970110', vari='5', ovienLukumaara='5', korityyppi='AC', ohjaamotyyppi='1', istumapaikkojenLkm='5', omamassa='1320', teknSuurSallKokmassa='1780', tieliikSuurSallKokmassa='1780', ajonKokPituus='4600', ajonLeveys='1720', ajonKorkeus=None, kayttovoima='01', iskutilavuus='1780', suurinNettoteho='66', sylintereidenLkm='4', ahdin='false', sahkohybridi=None, merkkiSelvakielinen='Volkswagen', mallimerkinta='5D PASSAT VARIANT 1.8 CL-351-C/263', vaihteisto=None, vaihteidenLkm=None, kaupallinenNimi='PASSAT', voimanvalJaTehostamistapa='05', tyyppihyvaksyntanro=None, yksittaisKayttovoima='01', kunta='286', Co2=None, matkamittarilukema='337083', alue='453', valmistenumero2='WVWZZZ3AZT', jarnro='2'),\n",
       " Row(ajoneuvoluokka='MUU', ensirekisterointipvm='1976-09-01', ajoneuvoryhma='13', ajoneuvonkaytto='01', variantti=None, versio=None, kayttoonottopvm='19760000', vari=None, ovienLukumaara=None, korityyppi=None, ohjaamotyyppi=None, istumapaikkojenLkm=None, omamassa='630', teknSuurSallKokmassa=None, tieliikSuurSallKokmassa='750', ajonKokPituus=None, ajonLeveys='1960', ajonKorkeus=None, kayttovoima=None, iskutilavuus=None, suurinNettoteho=None, sylintereidenLkm=None, ahdin=None, sahkohybridi=None, merkkiSelvakielinen='Sprite', mallimerkinta='ALPINE/C', vaihteisto=None, vaihteidenLkm=None, kaupallinenNimi=None, voimanvalJaTehostamistapa='01', tyyppihyvaksyntanro=None, yksittaisKayttovoima=None, kunta='893', Co2=None, matkamittarilukema=None, alue='669', valmistenumero2=None, jarnro='3'),\n",
       " Row(ajoneuvoluokka='M1', ensirekisterointipvm='1984-07-09', ajoneuvoryhma=None, ajoneuvonkaytto='01', variantti=None, versio=None, kayttoonottopvm='19840000', vari='1', ovienLukumaara=None, korityyppi=None, ohjaamotyyppi='1', istumapaikkojenLkm='5', omamassa='780', teknSuurSallKokmassa='1175', tieliikSuurSallKokmassa='1155', ajonKokPituus=None, ajonLeveys='1590', ajonKorkeus=None, kayttovoima='01', iskutilavuus='1110', suurinNettoteho=None, sylintereidenLkm='4', ahdin=None, sahkohybridi=None, merkkiSelvakielinen='Ford', mallimerkinta='2D FIESTA 1.1-FBD/2280', vaihteisto=None, vaihteidenLkm=None, kaupallinenNimi='FIESTA', voimanvalJaTehostamistapa='05', tyyppihyvaksyntanro=None, yksittaisKayttovoima='01', kunta='564', Co2=None, matkamittarilukema=None, alue='905', valmistenumero2=None, jarnro='4'),\n",
       " Row(ajoneuvoluokka='MUU', ensirekisterointipvm='1983-09-22', ajoneuvoryhma='13', ajoneuvonkaytto='01', variantti=None, versio=None, kayttoonottopvm='19830000', vari=None, ovienLukumaara=None, korityyppi=None, ohjaamotyyppi=None, istumapaikkojenLkm=None, omamassa='150', teknSuurSallKokmassa=None, tieliikSuurSallKokmassa='350', ajonKokPituus=None, ajonLeveys='1580', ajonKorkeus=None, kayttovoima=None, iskutilavuus=None, suurinNettoteho=None, sylintereidenLkm=None, ahdin=None, sahkohybridi=None, merkkiSelvakielinen='Omavalmiste', mallimerkinta='PV350/2000', vaihteisto=None, vaihteidenLkm=None, kaupallinenNimi=None, voimanvalJaTehostamistapa=None, tyyppihyvaksyntanro=None, yksittaisKayttovoima=None, kunta='734', Co2=None, matkamittarilukema=None, alue='252', valmistenumero2=None, jarnro='5')]"
      ]
     },
     "execution_count": 16,
     "metadata": {},
     "output_type": "execute_result"
    }
   ],
   "source": [
    "df.head(5)"
   ]
  },
  {
   "cell_type": "code",
   "execution_count": 18,
   "metadata": {},
   "outputs": [
    {
     "data": {
      "text/plain": [
       "357257"
      ]
     },
     "execution_count": 18,
     "metadata": {},
     "output_type": "execute_result"
    }
   ],
   "source": [
    "df.filter(df.ensirekisterointipvm >= \"2017-01-01\").count()"
   ]
  },
  {
   "cell_type": "code",
   "execution_count": 43,
   "metadata": {},
   "outputs": [
    {
     "data": {
      "text/plain": [
       "85607"
      ]
     },
     "execution_count": 43,
     "metadata": {},
     "output_type": "execute_result"
    }
   ],
   "source": [
    "df.filter((df.ensirekisterointipvm >= \"2018-01-01\") & ((df.ajoneuvoluokka == \"M1\") | (df.ajoneuvoluokka == \"M1G\"))).count()"
   ]
  },
  {
   "cell_type": "code",
   "execution_count": 42,
   "metadata": {},
   "outputs": [
    {
     "data": {
      "text/plain": [
       "[Row(kayttovoima='01', sahkohybridi='false', count=46887),\n",
       " Row(kayttovoima='01', sahkohybridi='true', count=10334),\n",
       " Row(kayttovoima='01', sahkohybridi=None, count=49),\n",
       " Row(kayttovoima='02', sahkohybridi='true', count=285),\n",
       " Row(kayttovoima='02', sahkohybridi='false', count=26156),\n",
       " Row(kayttovoima='02', sahkohybridi=None, count=28),\n",
       " Row(kayttovoima='04', sahkohybridi='false', count=426),\n",
       " Row(kayttovoima='04', sahkohybridi='true', count=2),\n",
       " Row(kayttovoima='11', sahkohybridi='false', count=1),\n",
       " Row(kayttovoima='13', sahkohybridi='false', count=167),\n",
       " Row(kayttovoima='38', sahkohybridi='false', count=1122),\n",
       " Row(kayttovoima='38', sahkohybridi=None, count=1),\n",
       " Row(kayttovoima='39', sahkohybridi='false', count=4),\n",
       " Row(kayttovoima='39', sahkohybridi='true', count=26),\n",
       " Row(kayttovoima='40', sahkohybridi='false', count=114),\n",
       " Row(kayttovoima='41', sahkohybridi='false', count=3),\n",
       " Row(kayttovoima='42', sahkohybridi='false', count=1),\n",
       " Row(kayttovoima='44', sahkohybridi='true', count=1)]"
      ]
     },
     "execution_count": 42,
     "metadata": {},
     "output_type": "execute_result"
    }
   ],
   "source": [
    "df.filter((df.ensirekisterointipvm >= \"2018-01-01\") & ((df.ajoneuvoluokka == \"M1\") | (df.ajoneuvoluokka == \"M1G\"))).groupby(\"kayttovoima\", \"sahkohybridi\").count().orderBy(\"kayttovoima\").collect()"
   ]
  },
  {
   "cell_type": "code",
   "execution_count": 21,
   "metadata": {},
   "outputs": [
    {
     "ename": "AttributeError",
     "evalue": "'int' object has no attribute 'orderBy'",
     "output_type": "error",
     "traceback": [
      "\u001b[0;31m---------------------------------------------------------------------------\u001b[0m",
      "\u001b[0;31mAttributeError\u001b[0m                            Traceback (most recent call last)",
      "\u001b[0;32m<ipython-input-21-f9a70a6006c5>\u001b[0m in \u001b[0;36m<module>\u001b[0;34m()\u001b[0m\n\u001b[0;32m----> 1\u001b[0;31m \u001b[0mdf\u001b[0m\u001b[0;34m.\u001b[0m\u001b[0mfilter\u001b[0m\u001b[0;34m(\u001b[0m\u001b[0mdf\u001b[0m\u001b[0;34m.\u001b[0m\u001b[0mensirekisterointipvm\u001b[0m \u001b[0;34m>\u001b[0m \u001b[0;34m\"2017-01-01\"\u001b[0m\u001b[0;34m)\u001b[0m\u001b[0;34m.\u001b[0m\u001b[0mcount\u001b[0m\u001b[0;34m(\u001b[0m\u001b[0;34m)\u001b[0m\u001b[0;34m.\u001b[0m\u001b[0morderBy\u001b[0m\u001b[0;34m(\u001b[0m\u001b[0;34m\"ajoneuvoluokka\"\u001b[0m\u001b[0;34m,\u001b[0m \u001b[0;34m\"kayttovoima\"\u001b[0m\u001b[0;34m)\u001b[0m\u001b[0;34m.\u001b[0m\u001b[0mshow\u001b[0m\u001b[0;34m(\u001b[0m\u001b[0;34m)\u001b[0m\u001b[0;34m\u001b[0m\u001b[0m\n\u001b[0m",
      "\u001b[0;31mAttributeError\u001b[0m: 'int' object has no attribute 'orderBy'"
     ]
    }
   ],
   "source": [
    "df.filter(df.ensirekisterointipvm > \"2017-01-01\").count().orderBy(\"ajoneuvoluokka\", \"kayttovoima\").show()"
   ]
  }
 ],
 "metadata": {
  "kernelspec": {
   "display_name": "Python 3",
   "language": "python",
   "name": "python3"
  },
  "language_info": {
   "codemirror_mode": {
    "name": "ipython",
    "version": 3
   },
   "file_extension": ".py",
   "mimetype": "text/x-python",
   "name": "python",
   "nbconvert_exporter": "python",
   "pygments_lexer": "ipython3",
   "version": "3.6.3"
  }
 },
 "nbformat": 4,
 "nbformat_minor": 2
}
